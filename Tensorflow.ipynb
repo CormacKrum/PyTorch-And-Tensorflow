{
 "cells": [
  {
   "cell_type": "code",
   "execution_count": 91,
   "metadata": {},
   "outputs": [],
   "source": [
    "import numpy as np\n",
    "import time\n",
    "from tensorflow.python.client import device_lib\n",
    "\n",
    "import tensorflow.compat.v1 as tf\n",
    "tf.disable_v2_behavior()"
   ]
  },
  {
   "cell_type": "code",
   "execution_count": 92,
   "metadata": {},
   "outputs": [
    {
     "name": "stdout",
     "output_type": "stream",
     "text": [
      "[name: \"/device:CPU:0\"\n",
      "device_type: \"CPU\"\n",
      "memory_limit: 268435456\n",
      "locality {\n",
      "}\n",
      "incarnation: 7199634452333350575\n",
      "]\n"
     ]
    }
   ],
   "source": [
    "print(device_lib.list_local_devices())"
   ]
  },
  {
   "cell_type": "code",
   "execution_count": 93,
   "metadata": {},
   "outputs": [],
   "source": [
    "ITER = 500"
   ]
  },
  {
   "cell_type": "markdown",
   "metadata": {},
   "source": [
    "\n",
    "# Numpy Performance"
   ]
  },
  {
   "cell_type": "code",
   "execution_count": 94,
   "metadata": {},
   "outputs": [
    {
     "name": "stdout",
     "output_type": "stream",
     "text": [
      "Time Taken:  26.955572843551636\n"
     ]
    }
   ],
   "source": [
    "X = np.random.randn(1000,1000)\n",
    "start = time.time()\n",
    "for i in range(ITER):\n",
    "    out = np.matmul(X,X)\n",
    "end = time.time()\n",
    "print(\"Time Taken: \",end - start)"
   ]
  },
  {
   "cell_type": "markdown",
   "metadata": {},
   "source": [
    "# Tensorflow Performance"
   ]
  },
  {
   "cell_type": "code",
   "execution_count": 95,
   "metadata": {},
   "outputs": [
    {
     "name": "stdout",
     "output_type": "stream",
     "text": [
      "Time Taken:  0.6055116653442383\n"
     ]
    }
   ],
   "source": [
    "X = tf.placeholder(shape = (1000,1000),dtype=tf.float32)\n",
    "start = time.time()\n",
    "for i in range(ITER):\n",
    "    out = tf.matmul(X,X)\n",
    "end = time.time()\n",
    "print(\"Time Taken: \",end - start)"
   ]
  },
  {
   "cell_type": "code",
   "execution_count": 96,
   "metadata": {},
   "outputs": [
    {
     "name": "stdout",
     "output_type": "stream",
     "text": [
      "Time Taken :  0.4209146499633789\n"
     ]
    }
   ],
   "source": [
    "with tf.device('/device:CPU:0'):\n",
    "    start = time.time()\n",
    "    for i in range(ITER):\n",
    "        out = tf.matmul(X,X)\n",
    "    end = time.time()\n",
    "print(\"Time Taken : \",end-start)"
   ]
  },
  {
   "cell_type": "code",
   "execution_count": 97,
   "metadata": {},
   "outputs": [
    {
     "name": "stdout",
     "output_type": "stream",
     "text": [
      "Time Taken :  18.828800201416016\n"
     ]
    }
   ],
   "source": [
    "x = tf.placeholder(shape = (1000,1000),dtype=tf.float32)\n",
    "X = np.random.randn(1000,1000)\n",
    "out = tf.matmul(x,x)\n",
    "with tf.device('/device:CPU:0'):\n",
    "    sess = tf.Session()\n",
    "    start = time.time()\n",
    "    for i in range(ITER):\n",
    "        sess.run(out,feed_dict={\n",
    "            x:X\n",
    "        })\n",
    "    end = time.time()\n",
    "print(\"Time Taken : \",end-start)"
   ]
  },
  {
   "cell_type": "markdown",
   "metadata": {},
   "source": [
    "# Linear Regression Using Tensorflow"
   ]
  },
  {
   "cell_type": "code",
   "execution_count": 123,
   "metadata": {},
   "outputs": [],
   "source": [
    "from sklearn.datasets import load_boston\n",
    "from sklearn.model_selection import train_test_split\n",
    "import matplotlib.pyplot as plt\n",
    "plt.style.use('seaborn')"
   ]
  },
  {
   "cell_type": "code",
   "execution_count": 110,
   "metadata": {},
   "outputs": [],
   "source": [
    "data = load_boston()\n",
    "X = data.data\n",
    "y = data.target.reshape((-1,1))\n",
    "\n",
    "X = (X-X.mean())/X.std()\n",
    "y = (y-y.mean())/y.std()\n",
    "\n",
    "X_train, X_test, y_train, y_test = train_test_split(X, y, test_size=0.33, random_state=42)"
   ]
  },
  {
   "cell_type": "code",
   "execution_count": 111,
   "metadata": {},
   "outputs": [],
   "source": [
    "ones = np.ones((X_train.shape[0],1))\n",
    "X = np.hstack((ones,X_train))\n",
    "n,m = X_train.shape[0],X_train.shape[1]"
   ]
  },
  {
   "cell_type": "code",
   "execution_count": 112,
   "metadata": {},
   "outputs": [],
   "source": [
    "epochs= 20\n",
    "X = tf.placeholder(dtype = tf.float32,shape = [None,m])\n",
    "y = tf.placeholder(dtype = tf.float32,shape = [None,1])"
   ]
  },
  {
   "cell_type": "code",
   "execution_count": 113,
   "metadata": {},
   "outputs": [],
   "source": [
    "W = tf.Variable(tf.random_normal(shape = (m,1)))"
   ]
  },
  {
   "cell_type": "code",
   "execution_count": 114,
   "metadata": {},
   "outputs": [],
   "source": [
    "y_pred = tf.matmul(X,W)\n",
    "loss = tf.reduce_mean(tf.square(y-y_pred))\n",
    "opt = tf.train.GradientDescentOptimizer(0.01).minimize(loss)"
   ]
  },
  {
   "cell_type": "code",
   "execution_count": 120,
   "metadata": {},
   "outputs": [],
   "source": [
    "train_loss_list= []\n",
    "test_loss_list =[]\n",
    "with tf.Session() as sess:\n",
    "    sess.run( tf.global_variables_initializer() )\n",
    "    for epo in range(epochs):\n",
    "        sess.run(opt, feed_dict={\n",
    "                    X:X_train,\n",
    "                    y:y_train\n",
    "                })\n",
    "        train_loss = sess.run(loss,feed_dict={\n",
    "            X:X_train,\n",
    "            y:y_train\n",
    "        })\n",
    "        test_loss = sess.run(loss,feed_dict={\n",
    "            X:X_test,\n",
    "            y:y_test\n",
    "        })\n",
    "        train_loss_list.append(train_loss)\n",
    "        test_loss_list.append(test_loss)"
   ]
  },
  {
   "cell_type": "code",
   "execution_count": 125,
   "metadata": {},
   "outputs": [
    {
     "data": {
      "image/png": "[encoded data removed]",
      "text/plain": [
       "<Figure size 576x396 with 1 Axes>"
      ]
     },
     "metadata": {},
     "output_type": "display_data"
    }
   ],
   "source": [
    "plt.figure()\n",
    "plt.plot(train_loss_list,label=\"Train Loss\",color=\"red\")\n",
    "plt.plot(test_loss_list,label=\"Test Loss\",color=\"green\")\n",
    "plt.legend()\n",
    "plt.show()"
   ]
  }
 ],
 "metadata": {
  "kernelspec": {
   "display_name": "Python 3",
   "language": "python",
   "name": "python3"
  },
  "language_info": {
   "codemirror_mode": {
    "name": "ipython",
    "version": 3
   },
   "file_extension": ".py",
   "mimetype": "text/x-python",
   "name": "python",
   "nbconvert_exporter": "python",
   "pygments_lexer": "ipython3",
   "version": "3.7.7"
  }
 },
 "nbformat": 4,
 "nbformat_minor": 4
}
